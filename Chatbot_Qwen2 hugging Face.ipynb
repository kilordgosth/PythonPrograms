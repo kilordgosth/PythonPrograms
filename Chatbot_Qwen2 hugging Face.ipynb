{
  "nbformat": 4,
  "nbformat_minor": 0,
  "metadata": {
    "colab": {
      "provenance": [],
      "private_outputs": true,
      "gpuType": "T4",
      "include_colab_link": true
    },
    "kernelspec": {
      "name": "python3",
      "display_name": "Python 3"
    },
    "language_info": {
      "name": "python"
    },
    "accelerator": "GPU"
  },
  "cells": [
    {
      "cell_type": "markdown",
      "metadata": {
        "id": "view-in-github",
        "colab_type": "text"
      },
      "source": [
        "<a href=\"https://colab.research.google.com/github/kilordgosth/PythonPrograms/blob/master/Chatbot_Qwen2%20hugging%20Face.ipynb\" target=\"_parent\"><img src=\"https://colab.research.google.com/assets/colab-badge.svg\" alt=\"Open In Colab\"/></a>"
      ]
    },
    {
      "cell_type": "markdown",
      "source": [
        "# Chatbot con Qwen2 de Hugging Face"
      ],
      "metadata": {
        "id": "GwP2mJ3SlXmt"
      }
    },
    {
      "cell_type": "code",
      "source": [
        "from transformers import AutoModelForCausalLM, AutoTokenizer\n",
        "\n",
        "# Cargar el modelo y el tokenizador en la CPU por defecto\n",
        "model = AutoModelForCausalLM.from_pretrained(\"Qwen/Qwen2-1.5B-Instruct\")\n",
        "tokenizer = AutoTokenizer.from_pretrained(\"Qwen/Qwen2-1.5B-Instruct\")\n",
        "\n",
        "# Función para generar la respuesta\n",
        "def generar_respuesta(prompt):\n",
        "    # Configurar los mensajes con el prompt del usuario\n",
        "    messages = [\n",
        "        {\"role\": \"Chatbot\", \"content\": \"\"},\n",
        "        {\"role\": \"Usuario\", \"content\": prompt + ' \\n'}\n",
        "    ]\n",
        "\n",
        "    # Aplicar el template de chat al prompt\n",
        "    text = tokenizer.apply_chat_template(messages, tokenize=False, add_generation_prompt=True)\n",
        "\n",
        "    # Tokenizar y preparar los inputs para el modelo\n",
        "    model_inputs = tokenizer([text], return_tensors=\"pt\")\n",
        "\n",
        "    # Generar texto con el modelo\n",
        "    generated_ids = model.generate(\n",
        "        model_inputs.input_ids,\n",
        "        max_length=512  # Cambiado de max_new_tokens a max_length para definir la longitud máxima de la generación\n",
        "    )\n",
        "\n",
        "    # Decodificar la salida generada\n",
        "    generated_text = tokenizer.batch_decode(generated_ids, skip_special_tokens=True)[0]\n",
        "\n",
        "    return generated_text"
      ],
      "metadata": {
        "id": "xxwafbnmLfec"
      },
      "execution_count": null,
      "outputs": []
    },
    {
      "cell_type": "code",
      "source": [
        "generar_respuesta(\"cuantas personas hay en el planeta ?\")"
      ],
      "metadata": {
        "id": "iFFxlGvevZYG"
      },
      "execution_count": null,
      "outputs": []
    }
  ]
}
